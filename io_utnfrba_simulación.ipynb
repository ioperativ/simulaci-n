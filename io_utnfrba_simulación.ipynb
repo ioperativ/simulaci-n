{
 "cells": [
  {
   "cell_type": "markdown",
   "metadata": {},
   "source": [
    "# Introducción a Python y Ejemplo de Simulación"
   ]
  },
  {
   "cell_type": "markdown",
   "metadata": {},
   "source": [
    "__Imprimir texto__"
   ]
  },
  {
   "cell_type": "code",
   "execution_count": 37,
   "metadata": {},
   "outputs": [
    {
     "name": "stdout",
     "output_type": "stream",
     "text": [
      "Hola, Soy Martín y estoy probando un script para el curso de Investigación Operativa 2018 los dias miércoles noche en UTN FRBA.\n"
     ]
    }
   ],
   "source": [
    "print(\"Hola, Soy Martín y estoy probando un script para el curso de Investigación Operativa 2018 los dias miércoles noche en UTN FRBA.\")"
   ]
  },
  {
   "cell_type": "markdown",
   "metadata": {},
   "source": [
    "__Suma y Multiplicación__"
   ]
  },
  {
   "cell_type": "markdown",
   "metadata": {},
   "source": [
    "Hacemos una suma y multiplicación de prueba."
   ]
  },
  {
   "cell_type": "code",
   "execution_count": 38,
   "metadata": {},
   "outputs": [
    {
     "data": {
      "text/plain": [
       "80"
      ]
     },
     "execution_count": 38,
     "metadata": {},
     "output_type": "execute_result"
    }
   ],
   "source": [
    "(5+3)*10"
   ]
  },
  {
   "cell_type": "markdown",
   "metadata": {},
   "source": [
    "__Prueba de simulación con distribución Exponencial__"
   ]
  },
  {
   "cell_type": "markdown",
   "metadata": {},
   "source": [
    "Lo que buscaremos es simular tiempos entre arribos con una distribución exponencial dada una media mu."
   ]
  },
  {
   "cell_type": "markdown",
   "metadata": {},
   "source": [
    "Importamos librerías de utilidad como Numpy, Matplotlib, etc"
   ]
  },
  {
   "cell_type": "code",
   "execution_count": 39,
   "metadata": {
    "collapsed": true
   },
   "outputs": [],
   "source": [
    "import random\n",
    "import numpy as np\n",
    "import matplotlib.pyplot as plt\n",
    "#import plotly.plotly as py"
   ]
  },
  {
   "cell_type": "markdown",
   "metadata": {},
   "source": [
    "Cargamos los parámetros iniciales, como la tasa de eventos por unidad de tiempo. En este caso se encontrará en la variable mu y su valor será = 5. Queremos que nuestro algoritmo realice 100 iteraciones, es decir 100 corridas de simulación."
   ]
  },
  {
   "cell_type": "code",
   "execution_count": 40,
   "metadata": {
    "collapsed": true
   },
   "outputs": [],
   "source": [
    "mu = 5\n",
    "beta = 1/mu\n",
    "iteraciones = 100"
   ]
  },
  {
   "cell_type": "markdown",
   "metadata": {},
   "source": [
    "Creamos una función llamada __t_arribos__ donde tendra como entrada el valor de la media de la función (representada como mu) y el valor de \"r\" (que será una función de probabilidad aleatoria uniforme entre 0 y 1)"
   ]
  },
  {
   "cell_type": "code",
   "execution_count": 41,
   "metadata": {
    "collapsed": true
   },
   "outputs": [],
   "source": [
    "def t_arribos (media, r):\n",
    "    tiempo = - (1/media)* np.log(r)\n",
    "    return tiempo"
   ]
  },
  {
   "cell_type": "markdown",
   "metadata": {},
   "source": [
    "Creamos un vector llamado __tiempos__, inicialmente lleno de ceros y cuya longitud será la cantidad de iteraciones que realizaremos, es decir 100."
   ]
  },
  {
   "cell_type": "code",
   "execution_count": 42,
   "metadata": {
    "collapsed": true
   },
   "outputs": [],
   "source": [
    "tiempos = np.zeros(iteraciones)"
   ]
  },
  {
   "cell_type": "markdown",
   "metadata": {},
   "source": [
    "Realizamos una acción __for__ de 100 iteraciones (entre 0 y 100), donde en cada iteración ejecutamos la función __t_arribos__. A dicha función ingresará la media mu y un número aleatorio entre 0 y 1. El resultado de cada iteración será guardado en cada posición del vector __tiempos__."
   ]
  },
  {
   "cell_type": "code",
   "execution_count": 43,
   "metadata": {
    "collapsed": true
   },
   "outputs": [],
   "source": [
    "for t in range(0,iteraciones):\n",
    "    tiempos[t] = t_arribos(mu,1-((random.uniform(0.001, 0.999))))"
   ]
  },
  {
   "cell_type": "markdown",
   "metadata": {},
   "source": [
    "Utilizando la librería MatPlotLib, importada como \"plt\", visualizamos el valor de cada posición del vector __tiempos__. Es decir, visualizamos en un grafico de barras el tiempo entre arribos con la media mu."
   ]
  },
  {
   "cell_type": "code",
   "execution_count": 44,
   "metadata": {},
   "outputs": [
    {
     "data": {
      "image/png": "[encoded data removed]",
      "text/plain": [
       "<matplotlib.figure.Figure at 0x111b1e438>"
      ]
     },
     "metadata": {},
     "output_type": "display_data"
    }
   ],
   "source": [
    "plt.bar(range(0,iteraciones),tiempos)\n",
    "plt.title('Valor de cada tiempo entre arribos simulado luego de ' + str(iteraciones) + ' iteraciones')\n",
    "plt.ylabel('Fracción de Hora')\n",
    "plt.xlabel('Iteración')\n",
    "plt.show()"
   ]
  },
  {
   "cell_type": "markdown",
   "metadata": {},
   "source": [
    "Si desean visualizar por consola los valores del vector __tiempos__ simplemente deben escribir su nombre en una caja de código y presionar \"Shift\" + \"Enter\""
   ]
  },
  {
   "cell_type": "code",
   "execution_count": 45,
   "metadata": {},
   "outputs": [
    {
     "data": {
      "text/plain": [
       "array([ 0.01112685,  0.2487106 ,  0.45345872,  0.60560638,  0.22617299,\n",
       "        0.01544234,  0.45030756,  0.05045852,  0.06581847,  0.33156724,\n",
       "        0.17701075,  0.13163315,  0.14663457,  0.13619603,  0.09913715,\n",
       "        0.00345183,  0.06643896,  0.14888674,  0.00458876,  0.18517355,\n",
       "        0.17161525,  0.05183548,  0.13854962,  0.09084289,  0.19702609,\n",
       "        0.0502346 ,  0.24468314,  0.19511081,  0.19568081,  0.28409785,\n",
       "        0.06998827,  0.06172249,  0.70934262,  0.06627906,  0.10598537,\n",
       "        0.41752237,  0.37961906,  0.0899035 ,  0.07564336,  0.14196018,\n",
       "        0.01240328,  0.34240725,  0.14251112,  0.04714209,  0.12555158,\n",
       "        0.59078259,  0.46741209,  0.15796434,  0.32568113,  0.17574418,\n",
       "        0.07080669,  0.17146782,  0.08545528,  0.32849226,  0.09244725,\n",
       "        0.02941276,  0.21385377,  0.01482209,  0.65398816,  0.19744594,\n",
       "        0.08350402,  0.95991626,  0.10664655,  0.04754593,  0.13484901,\n",
       "        0.06575592,  0.11242812,  0.02898085,  0.33458813,  0.10149469,\n",
       "        1.03341771,  0.01158489,  0.07254034,  0.0615206 ,  0.34801353,\n",
       "        0.02023309,  0.19194195,  0.04564482,  0.07884951,  0.01179234,\n",
       "        0.07879791,  0.3278766 ,  0.10592564,  0.14145758,  0.42663024,\n",
       "        0.17626424,  0.13494274,  0.06766214,  0.45844412,  0.19126117,\n",
       "        0.17858677,  0.16127466,  0.27606086,  0.03136411,  0.24980229,\n",
       "        0.05084356,  0.06170854,  0.05924761,  0.11454802,  0.15528062])"
      ]
     },
     "execution_count": 45,
     "metadata": {},
     "output_type": "execute_result"
    }
   ],
   "source": [
    "tiempos"
   ]
  },
  {
   "cell_type": "markdown",
   "metadata": {},
   "source": [
    "Ahora calcularemos el tiempo acumulado del vector tiempo de arribos. Lo que queremos es que el tiempo acumulado de arribos nos ayude a calcular la cantidad de arribos por hora."
   ]
  },
  {
   "cell_type": "code",
   "execution_count": 46,
   "metadata": {
    "collapsed": true
   },
   "outputs": [],
   "source": [
    "t_acumulado = np.zeros(iteraciones)\n",
    "t_acumulado[0] = tiempos[0]"
   ]
  },
  {
   "cell_type": "markdown",
   "metadata": {},
   "source": [
    "Para eso creamos el vector __t_acumulado__, de dimensión \"iteraciones\". Luego con un loop \"for\" de \"y\" iteraciones vamos acumulando los tiempos simulados anteriormente."
   ]
  },
  {
   "cell_type": "code",
   "execution_count": 47,
   "metadata": {
    "collapsed": true
   },
   "outputs": [],
   "source": [
    "for y in range(1,iteraciones):\n",
    "    t_acumulado[y] = tiempos[y]+t_acumulado[y-1]"
   ]
  },
  {
   "cell_type": "markdown",
   "metadata": {},
   "source": [
    "Si queremos visualizar por consola el valor del vector __t_acumulado__ entonces escribimos el nombre del vector en la caja de código y ejecutamos dicha caja con \"Shift\" + \"Enter\"."
   ]
  },
  {
   "cell_type": "code",
   "execution_count": 48,
   "metadata": {},
   "outputs": [
    {
     "data": {
      "text/plain": [
       "array([  1.11268481e-02,   2.59837450e-01,   7.13296174e-01,\n",
       "         1.31890255e+00,   1.54507554e+00,   1.56051788e+00,\n",
       "         2.01082545e+00,   2.06128396e+00,   2.12710243e+00,\n",
       "         2.45866967e+00,   2.63568042e+00,   2.76731357e+00,\n",
       "         2.91394814e+00,   3.05014417e+00,   3.14928131e+00,\n",
       "         3.15273314e+00,   3.21917210e+00,   3.36805884e+00,\n",
       "         3.37264760e+00,   3.55782115e+00,   3.72943640e+00,\n",
       "         3.78127188e+00,   3.91982150e+00,   4.01066439e+00,\n",
       "         4.20769048e+00,   4.25792507e+00,   4.50260821e+00,\n",
       "         4.69771902e+00,   4.89339983e+00,   5.17749768e+00,\n",
       "         5.24748595e+00,   5.30920843e+00,   6.01855105e+00,\n",
       "         6.08483012e+00,   6.19081549e+00,   6.60833786e+00,\n",
       "         6.98795692e+00,   7.07786042e+00,   7.15350378e+00,\n",
       "         7.29546396e+00,   7.30786724e+00,   7.65027448e+00,\n",
       "         7.79278561e+00,   7.83992769e+00,   7.96547927e+00,\n",
       "         8.55626186e+00,   9.02367395e+00,   9.18163829e+00,\n",
       "         9.50731942e+00,   9.68306360e+00,   9.75387029e+00,\n",
       "         9.92533810e+00,   1.00107934e+01,   1.03392856e+01,\n",
       "         1.04317329e+01,   1.04611456e+01,   1.06749994e+01,\n",
       "         1.06898215e+01,   1.13438097e+01,   1.15412556e+01,\n",
       "         1.16247596e+01,   1.25846759e+01,   1.26913224e+01,\n",
       "         1.27388684e+01,   1.28737174e+01,   1.29394733e+01,\n",
       "         1.30519014e+01,   1.30808823e+01,   1.34154704e+01,\n",
       "         1.35169651e+01,   1.45503828e+01,   1.45619677e+01,\n",
       "         1.46345080e+01,   1.46960286e+01,   1.50440421e+01,\n",
       "         1.50642752e+01,   1.52562172e+01,   1.53018620e+01,\n",
       "         1.53807115e+01,   1.53925039e+01,   1.54713018e+01,\n",
       "         1.57991784e+01,   1.59051040e+01,   1.60465616e+01,\n",
       "         1.64731918e+01,   1.66494561e+01,   1.67843988e+01,\n",
       "         1.68520610e+01,   1.73105051e+01,   1.75017662e+01,\n",
       "         1.76803530e+01,   1.78416277e+01,   1.81176885e+01,\n",
       "         1.81490526e+01,   1.83988549e+01,   1.84496985e+01,\n",
       "         1.85114070e+01,   1.85706546e+01,   1.86852027e+01,\n",
       "         1.88404833e+01])"
      ]
     },
     "execution_count": 48,
     "metadata": {},
     "output_type": "execute_result"
    }
   ],
   "source": [
    "t_acumulado"
   ]
  },
  {
   "cell_type": "markdown",
   "metadata": {},
   "source": [
    "Ahora procederemos a visualizar el vector __t_acumulado__"
   ]
  },
  {
   "cell_type": "code",
   "execution_count": 49,
   "metadata": {},
   "outputs": [
    {
     "data": {
      "image/png": "[encoded data removed]",
      "text/plain": [
       "<matplotlib.figure.Figure at 0x111df3dd8>"
      ]
     },
     "metadata": {},
     "output_type": "display_data"
    }
   ],
   "source": [
    "plt.bar(range(0,iteraciones),t_acumulado)\n",
    "plt.title('Valor acumulado del tiempo entre arribos simulado luego de ' + str(iteraciones) + ' iteraciones')\n",
    "plt.ylabel('Horas acumuladas de tiempos entre arribos')\n",
    "plt.xlabel('Iteración')\n",
    "plt.show()"
   ]
  },
  {
   "cell_type": "markdown",
   "metadata": {},
   "source": [
    "Ahora utilizaremos el vector de tiempos acumulados __t_acumulado__ para calcular cuantos arribos hubo por hora"
   ]
  },
  {
   "cell_type": "code",
   "execution_count": 50,
   "metadata": {
    "collapsed": true
   },
   "outputs": [],
   "source": [
    "# creamos vector arribos_horas de longitud 12 (por que justo queremos ver lo que sucede las primeras 12 horas).\n",
    "# inicialmente el vector horas esta todo en ceros.\n",
    "horas = 15\n",
    "arribos_horas = np.zeros(horas)\n",
    "\n",
    "# creamos el vector horas_count para ir contando hora a hora cuantos arribos hubo.\n",
    "horas_count = 1\n",
    "\n",
    "# realizamos un loop hora a hora\n",
    "for u in range(0,np.shape(arribos_horas)[0]): \n",
    "    \n",
    "    # por cada hora iterada, vemos cuantas iteraciones de tiempo acumulado cayeron en la hora analizada\n",
    "    for g in range(0,iteraciones):\n",
    "        \n",
    "        # en cada hora contaremos la cantidad de iteraciones de tiempo acumulado que caen en dicha hora.\n",
    "        # Esta cantidad de iteraciones las guardaremos en la posición u del vector horas, siendo u la hora analizada.\n",
    "        if t_acumulado[g] < horas_count and t_acumulado[g]> (horas_count - 1) :\n",
    "            arribos_horas[u] = arribos_horas[u]+1\n",
    "            \n",
    "    # una vez que analizamos que iteraciones caen en la hora analizada pasamos a la siguiente hora.\n",
    "    # entonces incrementamos la variable horas_count en 1.\n",
    "    horas_count = horas_count + 1    "
   ]
  },
  {
   "cell_type": "markdown",
   "metadata": {},
   "source": [
    "Imprimimos el vector horas en consola para ver los valores obtenidos. Estos valores son la cantidad de arribos que ocurrieron por hora. Prestar atención que inicialmente partimos de tiempos entre arribos. Luego calculamos los tiempos acumulados de los arribos. Finalmente con estos datos calculamos hora a hora cuantos arribos hubo."
   ]
  },
  {
   "cell_type": "code",
   "execution_count": 51,
   "metadata": {},
   "outputs": [
    {
     "data": {
      "text/plain": [
       "array([  3.,   3.,   7.,  10.,   6.,   3.,   5.,   8.,   1.,   6.,   6.,\n",
       "         3.,   5.,   4.,   4.])"
      ]
     },
     "execution_count": 51,
     "metadata": {},
     "output_type": "execute_result"
    }
   ],
   "source": [
    "arribos_horas"
   ]
  },
  {
   "cell_type": "markdown",
   "metadata": {},
   "source": [
    "Ahora procederemos a graficar el vector __arribos_horas__"
   ]
  },
  {
   "cell_type": "code",
   "execution_count": 52,
   "metadata": {},
   "outputs": [
    {
     "data": {
      "image/png": "[encoded data removed]",
      "text/plain": [
       "<matplotlib.figure.Figure at 0x111bb5748>"
      ]
     },
     "metadata": {},
     "output_type": "display_data"
    }
   ],
   "source": [
    "plt.bar(range(0,horas),arribos_horas)\n",
    "plt.title('Cantidad de arribos simulados hora a hora luego de ' + str(horas) + ' horas')\n",
    "plt.ylabel('Cantidad de arribos hora a hora')\n",
    "plt.xlabel('Hora')\n",
    "plt.show()"
   ]
  },
  {
   "cell_type": "markdown",
   "metadata": {
    "collapsed": true
   },
   "source": [
    "Vamos ahora a hacer algunas estadísticas de los tiempos entre arribos simulados y la cantidad de arribos obtenidos como por ejemplo graficar un BoxPlot."
   ]
  },
  {
   "cell_type": "code",
   "execution_count": 53,
   "metadata": {},
   "outputs": [
    {
     "data": {
      "image/png": "[encoded data removed]",
      "text/plain": [
       "<matplotlib.figure.Figure at 0x1119eaba8>"
      ]
     },
     "metadata": {},
     "output_type": "display_data"
    }
   ],
   "source": [
    "plt.boxplot(arribos_horas)\n",
    "plt.title('BoxPlot de la cantidad de arribos por hora')\n",
    "plt.xlabel('Arribos por hora')\n",
    "plt.ylabel('Cantidad de Arribos por hora')\n",
    "plt.show()"
   ]
  },
  {
   "cell_type": "markdown",
   "metadata": {},
   "source": [
    "En el boxplot anterior podemos observar como se distribuye la cantidad de arribos por hora en todo el experimento. Recordar que el BoxPlot indica la ubicación del Quartil 01, el Quartil 03 y la mediana de los datos."
   ]
  },
  {
   "cell_type": "code",
   "execution_count": 54,
   "metadata": {},
   "outputs": [
    {
     "data": {
      "image/png": "[encoded data removed]",
      "text/plain": [
       "<matplotlib.figure.Figure at 0x112134c18>"
      ]
     },
     "metadata": {},
     "output_type": "display_data"
    }
   ],
   "source": [
    "plt.boxplot(tiempos)\n",
    "plt.title('BoxPlot del tiempo entre arribos simulado')\n",
    "plt.xlabel('Tiempo entre arribos')\n",
    "plt.ylabel('Fracción de hora')\n",
    "plt.show()"
   ]
  },
  {
   "cell_type": "markdown",
   "metadata": {},
   "source": [
    "Podrá observarse que la mayoría de los datos (entre el Quartil 01 y 03) se concentran cerca de la media y muy pocos datos simulados se encuentran por arriba de lo simulado."
   ]
  }
 ],
 "metadata": {
  "kernelspec": {
   "display_name": "Python 3",
   "language": "python",
   "name": "python3"
  },
  "language_info": {
   "codemirror_mode": {
    "name": "ipython",
    "version": 3
   },
   "file_extension": ".py",
   "mimetype": "text/x-python",
   "name": "python",
   "nbconvert_exporter": "python",
   "pygments_lexer": "ipython3",
   "version": "3.6.1"
  }
 },
 "nbformat": 4,
 "nbformat_minor": 2
}
